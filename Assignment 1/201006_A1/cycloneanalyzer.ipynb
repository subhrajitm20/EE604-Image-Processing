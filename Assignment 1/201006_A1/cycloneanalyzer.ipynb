{
 "cells": [
  {
   "cell_type": "markdown",
   "metadata": {},
   "source": [
    "Cyclone: Cyclone Analyzer"
   ]
  },
  {
   "cell_type": "markdown",
   "metadata": {},
   "source": [
    "Libraries And Opening Images"
   ]
  },
  {
   "cell_type": "code",
   "execution_count": 66,
   "metadata": {},
   "outputs": [
    {
     "name": "stdout",
     "output_type": "stream",
     "text": [
      "Requirement already satisfied: sympy in /home/subhrajit/.local/lib/python3.8/site-packages (1.11)\n",
      "Requirement already satisfied: mpmath>=0.19 in /home/subhrajit/.local/lib/python3.8/site-packages (from sympy) (1.2.1)\n"
     ]
    }
   ],
   "source": [
    "! pip install sympy"
   ]
  },
  {
   "cell_type": "code",
   "execution_count": 67,
   "metadata": {},
   "outputs": [],
   "source": [
    "from sympy import Point, Line"
   ]
  },
  {
   "cell_type": "code",
   "execution_count": 68,
   "metadata": {},
   "outputs": [],
   "source": [
    "from PIL import Image\n",
    "import numpy as np\n",
    "import matplotlib.pyplot as plt\n",
    "import cv2\n",
    "\n",
    "# Opening input images\n",
    "# In the brackets add the path of your image\n",
    "im1 = Image.open(\"1.jpg\")\n",
    "im2 = Image.open(\"2.jpg\")\n",
    "im3 = Image.open(\"3.jpg\")"
   ]
  },
  {
   "cell_type": "markdown",
   "metadata": {},
   "source": [
    "Coordinates And Calculations"
   ]
  },
  {
   "cell_type": "code",
   "execution_count": 69,
   "metadata": {},
   "outputs": [],
   "source": [
    "# The coordinates have been obtained by hit and trial method which has not been shown here\n",
    "# b refers to Belna and a refers to Ambali\n",
    "\n",
    "b1 = [237,114]\n",
    "a1 = [546,181]\n",
    "\n",
    "b2 = [224,121]\n",
    "a2 = [541,188]\n",
    "\n",
    "b3 = [216,135]\n",
    "a3 = [530,195]\n",
    "\n",
    "ru = (362,499)  # ru - Reunion\n",
    "m = (415,475)   # m stands for Mauritius\n",
    "\n",
    "arnn = [200,269]    # Antsiranana Coordinates\n",
    "bka = [95,617]      # Benonoka Coordinates\n",
    "atvo = [141,438]    # Antananarivo Coordinates\n",
    "\n",
    "# The actual distance between the two blue points in Img 1 is given to be 250\n",
    "adb = 250\n",
    "\n",
    "# Assume the pixel distance between Reunion and Mauritius to be PDB\n",
    "pdb = ((ru[0]-m[0])**2+(ru[1]-m[1])**2)**(0.5)\n",
    "\n",
    "# The scaling between Actual Distance and Pixel Distance (Blue - Right)\n",
    "ratio1 = adb / pdb\n",
    "\n",
    "# The actual distance between the two green points in Img 1 is given to be 1500\n",
    "adg = 1500\n",
    "\n",
    "# Assume the pixel distance between Antsiranana and Benonoka to be PDB\n",
    "pdg = ((arnn[0]-bka[0])**2 + (arnn[1]-bka[1])**2)**(0.5)\n",
    "\n",
    "# The scaling between Actual Distance and Pixel Distance (Green - Left)\n",
    "ratio2 = adg / pdg\n",
    "\n",
    "# print(ratio1)\n",
    "# print(ratio2)\n",
    "\n",
    "# Average Scaling from Ratio 1 and Ratio 2\n",
    "avg_scal = (ratio1 + ratio2)/2"
   ]
  },
  {
   "cell_type": "markdown",
   "metadata": {},
   "source": [
    "Apojuncture"
   ]
  },
  {
   "cell_type": "code",
   "execution_count": 70,
   "metadata": {},
   "outputs": [],
   "source": [
    "# def join_line(p1, p2):\n",
    "#     on = (p1[1] - p2[1])\n",
    "#     zr = (p1[0] - p2[0])\n",
    "#     det = (p1[0]*p2[1] - p2[0]*p1[1])\n",
    "#     return on, -zr, -det\n",
    "\n",
    "\n",
    "def intersect(A, B, C, D):\n",
    "    # Consider Line AB as a1x + b1y = c1\n",
    "    a1 = -B[1] + A[1]\n",
    "    b1 = -A[0] + B[0]\n",
    "    c1 = -(B[1])*(A[0]) + (B[0])*(A[1])\n",
    " \n",
    "  # Consider Line CD as a2x + b2y = c2\n",
    "    a2 = -D[1] + C[1]\n",
    "    b2 = -C[0] + D[0]\n",
    "    c2 = -(D[1])*(C[0]) + (D[0])*(C[1])\n",
    " \n",
    "    det = a1*b2 - a2*b1     # Determinant\n",
    "    \n",
    "    if(det == 0):\n",
    "        return False\n",
    "    \n",
    "    x = (b2*c1 - b1*c2)/det\n",
    "    y = (a1*c2 - a2*c1)/det\n",
    "    return x, y"
   ]
  },
  {
   "cell_type": "code",
   "execution_count": 71,
   "metadata": {},
   "outputs": [
    {
     "name": "stdout",
     "output_type": "stream",
     "text": [
      "(-17.306122448979593, 543.2857142857143)\n"
     ]
    }
   ],
   "source": [
    "\n",
    "l1 = Line(b2, b3)\n",
    "l2 = Line(a2, a3)\n",
    "Apojuncture = intersect(b2, b3, a2, a3)\n",
    "\n",
    "print(Apojuncture)"
   ]
  },
  {
   "cell_type": "code",
   "execution_count": 72,
   "metadata": {},
   "outputs": [],
   "source": [
    "def dist(P1, P2):\n",
    "    dsq = ((P1[0]-P2[0])**2+(P1[1]-P2[1])**2)\n",
    "    return np.sqrt(dsq)"
   ]
  },
  {
   "cell_type": "markdown",
   "metadata": {},
   "source": [
    "Distance Between Apojuncture And Capital"
   ]
  },
  {
   "cell_type": "code",
   "execution_count": 73,
   "metadata": {},
   "outputs": [
    {
     "name": "stdout",
     "output_type": "stream",
     "text": [
      "Distance: 800.7461169400236\n"
     ]
    }
   ],
   "source": [
    "# Pixel-wise distance between Apojuncture and Antananarivo\n",
    "# Unit of Distance is Km\n",
    "pd1 = dist(Apojuncture,atvo)\n",
    "\n",
    "#Actual Distance\n",
    "Dist_Apojuncture_Capital = pd1 * avg_scal\n",
    "\n",
    "print(\"Distance:\",Dist_Apojuncture_Capital)"
   ]
  },
  {
   "cell_type": "markdown",
   "metadata": {},
   "source": [
    "Cyclone Speeds"
   ]
  },
  {
   "cell_type": "code",
   "execution_count": 74,
   "metadata": {},
   "outputs": [
    {
     "name": "stdout",
     "output_type": "stream",
     "text": [
      "Speed of Belna: 66.94820587023256\n",
      "Speed of Ambali: 43.85206487764847\n"
     ]
    }
   ],
   "source": [
    "# Speed of Cyclones\n",
    "# The times are shown in the image\n",
    "# Unit of Speed is Km/Hr and Unit of time is Hr\n",
    "t1 = 1444 - 1403\n",
    "t1 = t1/60\n",
    "t2 = 1539 - 1444\n",
    "t2 = t2/60\n",
    "bs1 = dist(b1,b2)/t1\n",
    "as1 = dist(a1, a2)/t1\n",
    "\n",
    "bs2 = dist(b2, b3)/t2\n",
    "as2 = dist(a2, a3)/t2\n",
    "\n",
    "Speed_of_Belna = (bs1+bs2)/2\n",
    "Speed_of_Ambali = (as1+as2)/2\n",
    "\n",
    "print(\"Speed of Belna:\",Speed_of_Belna*avg_scal)\n",
    "print(\"Speed of Ambali:\",Speed_of_Ambali*avg_scal)"
   ]
  },
  {
   "cell_type": "markdown",
   "metadata": {},
   "source": [
    "Time Taken By The Cyclones"
   ]
  },
  {
   "cell_type": "code",
   "execution_count": 75,
   "metadata": {},
   "outputs": [
    {
     "name": "stdout",
     "output_type": "stream",
     "text": [
      "Time taken by Belna to reach Apojuncture: 29.58347177925747\n",
      "Time taken by Ambali to reach Apojuncture: 64.32618141878636\n",
      "Time interval difference: 34.7427096395289\n"
     ]
    }
   ],
   "source": [
    "# All Time related quantities have unit as hour\n",
    "\n",
    "time_taken_by_Belna = dist(b3,Apojuncture)/Speed_of_Belna\n",
    "time_taken_by_Ambali = dist(a1,Apojuncture)/Speed_of_Ambali\n",
    "\n",
    "print(\"Time taken by Belna to reach Apojuncture:\",time_taken_by_Belna)\n",
    "print(\"Time taken by Ambali to reach Apojuncture:\",time_taken_by_Ambali)\n",
    "print(\"Time interval difference:\",time_taken_by_Ambali - time_taken_by_Belna)"
   ]
  },
  {
   "cell_type": "markdown",
   "metadata": {},
   "source": [
    "# RESULTS"
   ]
  },
  {
   "cell_type": "markdown",
   "metadata": {},
   "source": [
    "Coordinates of Apojuncture = (-17.306122448979593, 543.2857142857143)\n",
    "<br>Distance between Apojuncture and Capital = 800.7461169400236 Kms\n",
    "\n",
    "Speed of Belna: 66.94820587023256 Kms/Hr\n",
    "<br>Speed of Ambali: 43.85206487764847 Kms/Hr\n",
    "\n",
    "<br>Time taken by Belna to reach Apojuncture: 29.58347177925747 Hrs\n",
    "<br>Time taken by Ambali to reach Apojuncture: 64.32618141878636 Hrs\n",
    "<br>Time difference: 34.7427096395289 Hrs"
   ]
  },
  {
   "cell_type": "markdown",
   "metadata": {},
   "source": [
    "# CONCLUSION"
   ]
  },
  {
   "cell_type": "markdown",
   "metadata": {},
   "source": [
    "As Ambali and Belna do not reach the capital at the same time, We can conclude that they will not collide"
   ]
  }
 ],
 "metadata": {
  "kernelspec": {
   "display_name": "Python 3.8.10 64-bit",
   "language": "python",
   "name": "python3"
  },
  "language_info": {
   "codemirror_mode": {
    "name": "ipython",
    "version": 3
   },
   "file_extension": ".py",
   "mimetype": "text/x-python",
   "name": "python",
   "nbconvert_exporter": "python",
   "pygments_lexer": "ipython3",
   "version": "3.8.10"
  },
  "orig_nbformat": 4,
  "vscode": {
   "interpreter": {
    "hash": "31f2aee4e71d21fbe5cf8b01ff0e069b9275f58929596ceb00d14d90e3e16cd6"
   }
  }
 },
 "nbformat": 4,
 "nbformat_minor": 2
}
